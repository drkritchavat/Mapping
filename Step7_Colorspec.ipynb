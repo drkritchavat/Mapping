{
 "cells": [
  {
   "cell_type": "code",
   "execution_count": null,
   "metadata": {},
   "outputs": [],
   "source": [
    "def click7(none):\n",
    "    %run ./Step8_Map.ipynb\n",
    "\n",
    "binspec = colordis.value\n",
    "print(\"Color Specification\")\n",
    "print('กำหนดค่าตัวเลขตาม ' + binspec)\n",
    "print('ตัวอย่าง: การกำหนด Percentile 0,0.25,0.5,0.75,1 หมายความว่า\\n แบ่งระดับสีเป็น 4 ระดับ ตามพื้นที่ที่ค่าอยู่ระหว่าง Pencentile ที่ 0-25%, 25-50%, 50-75% และ 75-100%')\n",
    "print('หรือในกรณีของ Manual: 0, 10, 50, 100 หมายความว่า\\n  แบ่งระดับสีเป็น 3 ระดับ ตามพื้นที่ที่มีจำนวนผู้ป่วย/อัตราป่วย หรืออื่นๆ ระหว่าง 0-10, 10-50 และ 50-100' )\n",
    "print(\"\")\n",
    "text2 = widgets.Text(\n",
    "    value='0,0.25,0.5,0.75,1',\n",
    "    placeholder='Type something',\n",
    "    description='Color specification',\n",
    "    disabled=False\n",
    ")\n",
    "button7 = widgets.Button(description=\"เลือก\")\n",
    "display(text2,button7)\n",
    "button7.on_click(click7)"
   ]
  }
 ],
 "metadata": {
  "kernelspec": {
   "display_name": "Python 3",
   "language": "python",
   "name": "python3"
  },
  "language_info": {
   "codemirror_mode": {
    "name": "ipython",
    "version": 3
   },
   "file_extension": ".py",
   "mimetype": "text/x-python",
   "name": "python",
   "nbconvert_exporter": "python",
   "pygments_lexer": "ipython3",
   "version": "3.7.1"
  }
 },
 "nbformat": 4,
 "nbformat_minor": 2
}
