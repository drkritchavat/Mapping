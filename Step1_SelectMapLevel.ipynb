{
 "cells": [
  {
   "cell_type": "code",
   "execution_count": 3,
   "metadata": {
    "scrolled": false
   },
   "outputs": [
    {
     "data": {
      "application/vnd.jupyter.widget-view+json": {
       "model_id": "ec539d50886a4bd887c7a98f183d4dc4",
       "version_major": 2,
       "version_minor": 0
      },
      "text/plain": [
       "Select(description='Map level:', options=('Province', 'District'), value='Province')"
      ]
     },
     "metadata": {},
     "output_type": "display_data"
    },
    {
     "data": {
      "application/vnd.jupyter.widget-view+json": {
       "model_id": "f26e02cf061e4e0d890242bc300a4174",
       "version_major": 2,
       "version_minor": 0
      },
      "text/plain": [
       "Button(description='Select', style=ButtonStyle())"
      ]
     },
     "metadata": {},
     "output_type": "display_data"
    }
   ],
   "source": [
    "import pandas as pd\n",
    "import folium\n",
    "import traitlets\n",
    "from ipywidgets import widgets\n",
    "from IPython.display import display\n",
    "from tkinter import Tk, filedialog\n",
    "def click1(none):\n",
    "    %run ./Step2_SelectData.ipynb\n",
    "    \n",
    "selectarea = widgets.Select(\n",
    "options=['Province','District'],\n",
    "description='Map level:',\n",
    "disabled=False\n",
    ")\n",
    "button1 = widgets.Button(description=\"Select\")\n",
    "display(selectarea,button1)\n",
    "button1.on_click(click1)"
   ]
  }
 ],
 "metadata": {
  "kernelspec": {
   "display_name": "Python 3",
   "language": "python",
   "name": "python3"
  },
  "language_info": {
   "codemirror_mode": {
    "name": "ipython",
    "version": 3
   },
   "file_extension": ".py",
   "mimetype": "text/x-python",
   "name": "python",
   "nbconvert_exporter": "python",
   "pygments_lexer": "ipython3",
   "version": "3.7.1"
  }
 },
 "nbformat": 4,
 "nbformat_minor": 2
}
