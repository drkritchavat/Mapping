{
 "cells": [
  {
   "cell_type": "code",
   "execution_count": null,
   "metadata": {},
   "outputs": [],
   "source": [
    "def click3(none):\n",
    "    df = pd.read_excel(my_button.files[0])\n",
    "    df[codelist.value] = df[codelist.value].astype('int')\n",
    "    code = codelist.value\n",
    "    %run ./Step4_Value.ipynb\n",
    "\n",
    "df = pd.read_excel(my_button.files[0])\n",
    "print(\"เลือกตัวแปรรหัสพื้นที่ ซึ่งเป็นรหัสตัวเลขพื้นที่ตามที่กระทรวงมหาดไทยกำหนด\")\n",
    "codelist = widgets.Select(options=list(df.columns),description='Area code:',disabled=False)\n",
    "button3 = widgets.Button(description=\"เลือก\")\n",
    "display(codelist,button3)\n",
    "button3.on_click(click3)\n",
    "\n",
    "\n",
    "\n"
   ]
  }
 ],
 "metadata": {
  "kernelspec": {
   "display_name": "Python 3",
   "language": "python",
   "name": "python3"
  },
  "language_info": {
   "codemirror_mode": {
    "name": "ipython",
    "version": 3
   },
   "file_extension": ".py",
   "mimetype": "text/x-python",
   "name": "python",
   "nbconvert_exporter": "python",
   "pygments_lexer": "ipython3",
   "version": "3.7.1"
  }
 },
 "nbformat": 4,
 "nbformat_minor": 2
}
