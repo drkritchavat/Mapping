{
 "cells": [
  {
   "cell_type": "code",
   "execution_count": null,
   "metadata": {},
   "outputs": [],
   "source": [
    "def click5(none):\n",
    "    %run ./Step6_Bins.ipynb\n",
    "\n",
    "df = pd.read_excel(my_button.files[0])\n",
    "df[valuelist.value] = df[valuelist.value].astype('float')\n",
    "value = valuelist.value\n",
    "print('ใส่รหัสสีที่ต้องการ ซึ่งดูเพิ่มเติมได้ที่ (http://colorbrewer2.org/) เช่น RdYlGn = สีแดง-สีเหลือง-สีเขียว')\n",
    "text = widgets.Text(\n",
    "    value='RdYlGn',\n",
    "    placeholder='Type something',\n",
    "    description='รหัสสี',\n",
    "    disabled=False\n",
    ")\n",
    "button5 = widgets.Button(description=\"ตกลง\")\n",
    "display(text,button5)\n",
    "button5.on_click(click5)\n"
   ]
  }
 ],
 "metadata": {
  "kernelspec": {
   "display_name": "Python 3",
   "language": "python",
   "name": "python3"
  },
  "language_info": {
   "codemirror_mode": {
    "name": "ipython",
    "version": 3
   },
   "file_extension": ".py",
   "mimetype": "text/x-python",
   "name": "python",
   "nbconvert_exporter": "python",
   "pygments_lexer": "ipython3",
   "version": "3.7.1"
  }
 },
 "nbformat": 4,
 "nbformat_minor": 2
}
