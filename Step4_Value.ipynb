{
 "cells": [
  {
   "cell_type": "code",
   "execution_count": null,
   "metadata": {},
   "outputs": [],
   "source": [
    "def click4(none):\n",
    "    %run ./Step5_Color.ipynb\n",
    "\n",
    "df = pd.read_excel(my_button.files[0])\n",
    "code = codelist.value\n",
    "print(\"จากตัวแปรเหล่านี้ เลือกตัวแปรข้อมูลที่ต้องการนำเสนอในแผนที่ ว่าต้องการนำเสนออะไร และต้องเป็นข้อมูลเชิงปริมาณเท่านั้น (เป็นตัวเลข)\")\n",
    "valuelist = widgets.Select(options=list(df.columns),description='Area value:',disabled=False)\n",
    "button4 = widgets.Button(description=\"เลือก\")\n",
    "display(valuelist,button4)\n",
    "button4.on_click(click4)"
   ]
  }
 ],
 "metadata": {
  "kernelspec": {
   "display_name": "Python 3",
   "language": "python",
   "name": "python3"
  },
  "language_info": {
   "codemirror_mode": {
    "name": "ipython",
    "version": 3
   },
   "file_extension": ".py",
   "mimetype": "text/x-python",
   "name": "python",
   "nbconvert_exporter": "python",
   "pygments_lexer": "ipython3",
   "version": "3.7.1"
  }
 },
 "nbformat": 4,
 "nbformat_minor": 2
}
